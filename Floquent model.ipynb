{
 "cells": [
  {
   "cell_type": "code",
   "execution_count": 46,
   "metadata": {},
   "outputs": [],
   "source": [
    "import numpy as np\n",
    "from scipy.sparse import csr_matrix\n",
    "from scipy.linalg import expm\n",
    "import matplotlib.pyplot as pyp\n",
    "\n",
    "global g, h, tau, P, L, Max\n",
    "g = 0.9045\n",
    "h = 0.809\n",
    "tau = 0.8\n",
    "\n",
    "P = 0.1\n",
    "L = 8\n",
    "\n",
    "HX = csr_matrix((2**L,2**L), dtype=np.float64).toarray()\n",
    "HZ = csr_matrix((2**L,2**L), dtype=np.float64).toarray()\n",
    "Max = 2**L - 1   #Vectors from zero to this number\n",
    "\n",
    "def compare(main, vect):\n",
    "    err = 0\n",
    "    for i in range(len(main)):\n",
    "        if main[i] != vect[i]:\n",
    "            err += 1\n",
    "        if err > 1:\n",
    "            break\n",
    "    if err == 1:\n",
    "        return True\n",
    "    else:\n",
    "        return False\n",
    "    \n",
    "def actZZ(main):\n",
    "    suma = 0\n",
    "    for i in range(len(main)):\n",
    "        if main[i] == '1':\n",
    "            suma += h+g*np.sqrt(1.0-P**2)*G[i]*1.0\n",
    "        else:\n",
    "            suma += h+g*np.sqrt(1.0-P**2)*G[i]*(-1.0)\n",
    "    for i in range(len(main)-1):\n",
    "        if main[i] != main[i+1]:\n",
    "            suma += -1\n",
    "        else:\n",
    "            suma += 1  \n",
    "    return suma\n",
    "    \n",
    "def build(HX, HZ):\n",
    "    for n in range(Max+1): \n",
    "        HZ[n,n] += actZZ(format(n, \"0\"+str(L)+\"b\"))\n",
    "        for i in range(n+1,Max+1):\n",
    "            if compare(format(n, \"0\"+str(L)+\"b\"), format(i, \"0\"+str(L)+\"b\")):\n",
    "                HX[i,n] += g*P\n",
    "                HX[n,i] += g*P\n",
    "    return HX, HZ\n",
    "\n",
    "def eigenvals(HX, HZ, t):    \n",
    "    print(t)\n",
    "    UF = np.dot(expm(-1j*0.5*t*HX), np.dot(expm(-1j*t*HZ), expm(-1j*0.5*t*HX) ))\n",
    "\n",
    "    W1, O = np.linalg.eig(UF.real)\n",
    "    W2 = 1j*np.dot( O, np.dot( UF.imag, np.transpose(O) )) #Macierz z wartosciami imag na calej macierzy, pozniej biore Re wiec pomijam wartosci z tej macierzy\n",
    "\n",
    "    W = W1 #+W2 (???) Anyway trzeba dodac inaczej bo zle dodaje\n",
    "\n",
    "    return UF, W, O\n",
    "\n",
    "def makeX(j, X):\n",
    "    for i in range(Max+1):\n",
    "        vec = list(format(i, \"0\"+str(L)+\"b\"))\n",
    "        if vec[j] == '1': \n",
    "            vec[j] = '0'\n",
    "            X[int(''.join(vec),2),i] = X[i,int(''.join(vec),2)] = 1\n",
    "    return X\n",
    "\n",
    "def OTOC(UF):\n",
    "    M1 = np.dot( np.transpose(np.conjugate(UF)), np.dot(Wt, UF) )\n",
    "    M = np.dot( np.dot(np.transpose(np.conjugate(M1)),np.transpose(np.conjugate(V)) ), np.dot(M1,V) )\n",
    "\n",
    "    return np.absolute(np.trace(M)/(Max+1) )**2"
   ]
  },
  {
   "cell_type": "code",
   "execution_count": 47,
   "metadata": {},
   "outputs": [],
   "source": [
    "Wt = csr_matrix((2**L,2**L), dtype=np.float64).toarray()\n",
    "V= csr_matrix((2**L,2**L), dtype=np.float64).toarray()\n",
    "\n",
    "Wt = makeX(0,Wt)\n",
    "V = makeX(2,V)"
   ]
  },
  {
   "cell_type": "code",
   "execution_count": 48,
   "metadata": {
    "scrolled": true
   },
   "outputs": [
    {
     "name": "stdout",
     "output_type": "stream",
     "text": [
      "[ 0.0414616   1.68831842  0.75314076 -1.2227008  -0.09476625  2.37928097\n",
      "  2.71295919 -1.97428488]\n",
      "0.0\n",
      "1.0\n",
      "1.6\n",
      "1.0\n",
      "[ 0.28623882  0.28993425 -0.65521916  0.32204214  0.36042285  1.21462385\n",
      " -0.9878118  -1.1442592 ]\n",
      "0.0\n",
      "1.0\n",
      "1.6\n",
      "1.0\n"
     ]
    }
   ],
   "source": [
    "iteration = 2\n",
    "T = 2\n",
    "global G\n",
    "\n",
    "data = np.zeros((T))\n",
    "time = []\n",
    "\n",
    "for i in range(iteration):\n",
    "    G = np.random.normal(size=L)\n",
    "    HX, HZ = build(HX, HZ)\n",
    "    print(G)\n",
    "    for n in range(0,T):\n",
    "        ave = 0\n",
    "        UF, W, O = eigenvals(HX, HZ, n*2*tau)\n",
    "        ave = OTOC(UF)\n",
    "        print(ave)\n",
    "        data[n] += ave\n",
    "        \n",
    "        if i ==0:\n",
    "            time.append(n*2*tau)\n",
    "            \n",
    "data = data/float(iteration)"
   ]
  },
  {
   "cell_type": "code",
   "execution_count": 51,
   "metadata": {},
   "outputs": [
    {
     "name": "stdout",
     "output_type": "stream",
     "text": [
      "[[0. 0. 0. ... 0. 0. 0.]\n",
      " [0. 0. 0. ... 0. 0. 0.]\n",
      " [0. 0. 0. ... 0. 0. 0.]\n",
      " ...\n",
      " [0. 0. 0. ... 0. 0. 0.]\n",
      " [0. 0. 0. ... 0. 0. 0.]\n",
      " [0. 0. 0. ... 0. 0. 0.]]\n"
     ]
    }
   ],
   "source": [
    "print(Wt)"
   ]
  },
  {
   "cell_type": "code",
   "execution_count": 17,
   "metadata": {},
   "outputs": [
    {
     "name": "stdout",
     "output_type": "stream",
     "text": [
      "[1. 1. 1. 1. 1. 1. 1. 1. 1. 1. 1. 1. 1. 1. 1. 1. 1. 1. 1. 1.]\n"
     ]
    }
   ],
   "source": [
    "print(data)"
   ]
  },
  {
   "cell_type": "code",
   "execution_count": 9,
   "metadata": {},
   "outputs": [
    {
     "data": {
      "image/png": "[encoded data removed]",
      "text/plain": [
       "<Figure size 432x288 with 1 Axes>"
      ]
     },
     "metadata": {
      "needs_background": "light"
     },
     "output_type": "display_data"
    }
   ],
   "source": [
    "pyp.plot(time, data)\n",
    "pyp.yscale('log')"
   ]
  },
  {
   "cell_type": "code",
   "execution_count": 65,
   "metadata": {},
   "outputs": [
    {
     "data": {
      "text/plain": [
       "array([0.83744993, 0.8204246 , 0.80384857, 0.86501824, 0.02864675,\n",
       "       0.0385616 , 0.04603331, 0.74540121, 0.76271336, 0.73214744,\n",
       "       0.29809785, 0.71075099, 0.71138379, 0.36886084, 0.34304438,\n",
       "       0.39488366, 0.61081627, 0.68563971, 0.67021283, 0.65290073,\n",
       "       0.63661295, 0.57164882, 0.44569569, 0.56343904, 0.50047376,\n",
       "       0.47678175, 0.52477967, 0.55462349, 0.5114846 , 0.51290657,\n",
       "       0.87224065, 0.65724027, 0.34596734, 0.43902704, 0.45360104,\n",
       "       0.54556095, 0.55067657, 0.54995355, 0.76087834, 0.32555125,\n",
       "       0.30909183, 1.00314836, 0.93840474, 0.92279026, 0.89259892,\n",
       "       0.90181801, 0.90576504, 0.63614225, 0.66748793, 0.45579387,\n",
       "       0.66802308, 0.04362181, 0.06108108, 1.02046034, 1.02815974,\n",
       "       0.92024176, 0.94133704, 0.96758188, 0.96217307, 0.45594572,\n",
       "       0.23281857, 0.24127274, 0.06456326, 0.07785455, 0.07831518,\n",
       "       0.09071817, 0.08859011, 0.11602892, 1.06973659, 1.12789409,\n",
       "       1.12040107, 0.1917263 , 0.11358758, 0.12136978, 0.15430188,\n",
       "       0.15049959, 0.12572283, 0.1370114 , 0.13383391, 0.18631592,\n",
       "       1.19515152, 1.19677595, 0.16367044, 0.18161137, 2.48766257,\n",
       "       2.47661271, 2.41246613, 2.41456682, 3.09420964, 3.12985208,\n",
       "       3.12391688, 3.11801441, 3.11769387, 3.08436136, 3.07693453,\n",
       "       3.07807976, 0.17773424, 0.16126396, 0.17656152, 2.39515415,\n",
       "       2.37982793, 2.38570066, 2.57577861, 2.53851967, 2.54359802,\n",
       "       2.54390105, 3.01716793, 2.9823485 , 3.03415775, 3.02521733,\n",
       "       3.03436501, 3.00809319, 3.00807673, 2.6108574 , 2.62030354,\n",
       "       2.96211538, 2.33848507, 2.29389143, 2.32145985, 2.31038613,\n",
       "       2.2896195 , 2.61456309, 2.66832413, 2.65693496, 2.93591675,\n",
       "       2.93900365, 1.23074218, 2.33836055, 0.15951702, 1.25827022,\n",
       "       1.23913331, 1.24151274, 1.24124013, 1.24047172, 2.21946261,\n",
       "       2.24509462, 2.32116566, 2.90009009, 2.89280182, 2.8948428 ,\n",
       "       0.18303249, 1.29773644, 1.30747816, 1.31916117, 1.31625802,\n",
       "       1.32379618, 2.19915531, 2.713272  , 2.72081658, 2.86374522,\n",
       "       2.85615701, 2.73579387, 2.15038038, 1.32706162, 2.84091828,\n",
       "       1.42098152, 1.46206144, 1.46174   , 1.39963012, 1.84789749,\n",
       "       1.84271627, 1.83103301, 1.81300219, 1.79195538, 1.77316468,\n",
       "       1.78698701, 2.12917094, 1.34105776, 2.12636507, 1.50181512,\n",
       "       1.51241691, 1.88303512, 1.85681433, 1.7612599 , 1.69010407,\n",
       "       1.72568799, 1.7010977 , 1.73511772, 1.39485316, 1.50637276,\n",
       "       1.91607721, 1.90992716, 1.94258127, 1.94697704, 1.53403388,\n",
       "       1.74367027, 1.53709498, 1.56069026, 1.63713787, 1.6534095 ,\n",
       "       1.66084522, 1.6647864 , 1.38196335, 1.54484613, 1.57832196,\n",
       "       1.74114937, 1.92709883, 1.97477957, 1.98694689, 1.98607463,\n",
       "       1.99623838, 2.00783905, 1.9289886 , 1.59027505, 1.62483124,\n",
       "       2.82672288, 2.82275435, 2.76456272, 2.76742048, 1.3516192 ,\n",
       "       1.55131748, 1.62014763, 2.01896852, 2.09047875, 2.02241675,\n",
       "       2.06450911, 2.04515463, 2.04070752, 2.03687291, 2.05136651,\n",
       "       1.36684671, 2.79015599, 1.61107073, 2.09113389, 1.3580331 ,\n",
       "       1.60123856, 1.55162116, 2.05426086, 2.02868637, 2.79562939,\n",
       "       2.81619766, 2.81452549, 2.80046663, 2.78154012, 2.78022596,\n",
       "       2.0862581 , 2.08569296, 2.08581498, 1.35671877, 2.77398102,\n",
       "       2.81308057, 2.81524929, 1.37208493, 1.35896403, 1.36242613,\n",
       "       1.36301695, 1.60513885, 1.92854563, 2.03000535, 2.09152163,\n",
       "       1.60951349, 2.80008749, 2.7738764 , 2.77871204, 2.78123247,\n",
       "       1.60743008])"
      ]
     },
     "execution_count": 65,
     "metadata": {},
     "output_type": "execute_result"
    }
   ],
   "source": [
    "#Te wartosci wlasne:\n",
    "np.arccos(W)"
   ]
  },
  {
   "cell_type": "code",
   "execution_count": 67,
   "metadata": {},
   "outputs": [
    {
     "data": {
      "text/plain": [
       "[<matplotlib.lines.Line2D at 0x7f22305ad9b0>]"
      ]
     },
     "execution_count": 67,
     "metadata": {},
     "output_type": "execute_result"
    },
    {
     "data": {
      "image/png": "[encoded data removed]",
      "text/plain": [
       "<Figure size 432x288 with 1 Axes>"
      ]
     },
     "metadata": {
      "needs_background": "light"
     },
     "output_type": "display_data"
    }
   ],
   "source": [
    "pyp.loglog(time, data)"
   ]
  },
  {
   "cell_type": "code",
   "execution_count": 68,
   "metadata": {},
   "outputs": [
    {
     "data": {
      "image/png": "[encoded data removed]",
      "text/plain": [
       "<Figure size 432x288 with 1 Axes>"
      ]
     },
     "metadata": {
      "needs_background": "light"
     },
     "output_type": "display_data"
    }
   ],
   "source": [
    "pyp.plot(time, data)\n",
    "pyp.yscale('log')"
   ]
  }
 ],
 "metadata": {
  "kernelspec": {
   "display_name": "Python 3",
   "language": "python",
   "name": "python3"
  },
  "language_info": {
   "codemirror_mode": {
    "name": "ipython",
    "version": 3
   },
   "file_extension": ".py",
   "mimetype": "text/x-python",
   "name": "python",
   "nbconvert_exporter": "python",
   "pygments_lexer": "ipython3",
   "version": "3.6.8"
  }
 },
 "nbformat": 4,
 "nbformat_minor": 2
}
